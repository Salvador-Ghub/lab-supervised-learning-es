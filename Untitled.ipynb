{
 "cells": [
  {
   "cell_type": "code",
   "execution_count": 1,
   "id": "282e9046-e4d9-4cfb-a3b0-b937192759b0",
   "metadata": {},
   "outputs": [
    {
     "name": "stdout",
     "output_type": "stream",
     "text": [
      "        texto\n",
      "0        hola\n",
      "1       mundo\n",
      "2       adiós\n",
      "3  hola mundo\n"
     ]
    }
   ],
   "source": [
    "import pandas as pd\n",
    "\n",
    "# Crear el DataFrame de ejemplo\n",
    "data = {\n",
    "    'texto': ['Hola mundo', 'hola', 'Mundo', 'Hola Mundo', 'hola MUNDO', 'Adiós', 'mundo']\n",
    "}\n",
    "df = pd.DataFrame(data)\n",
    "\n",
    "# Convertir todas las cadenas a minúsculas para normalizar\n",
    "df['texto_normalizado'] = df['texto'].str.lower()\n",
    "\n",
    "# Ordenar por longitud de la cadena para evitar eliminar cadenas completas antes de verificar subcadenas\n",
    "df = df.sort_values(by='texto_normalizado', key=lambda col: col.str.len()).reset_index(drop=True)\n",
    "\n",
    "# Quitar duplicados basados en subcadenas\n",
    "def eliminar_subcadenas(data):\n",
    "    result = []\n",
    "    for i, texto in enumerate(data):\n",
    "        # Solo agregar si no está contenido en ningún texto ya procesado\n",
    "        if not any(texto in t for t in result):\n",
    "            result.append(texto)\n",
    "    return result\n",
    "\n",
    "# Aplicar la función para quitar duplicados \"escondidos\"\n",
    "df_limpio = pd.DataFrame({'texto': eliminar_subcadenas(df['texto_normalizado'])})\n",
    "\n",
    "# Resultado\n",
    "print(df_limpio)"
   ]
  }
 ],
 "metadata": {
  "kernelspec": {
   "display_name": "Python 3 (ipykernel)",
   "language": "python",
   "name": "python3"
  },
  "language_info": {
   "codemirror_mode": {
    "name": "ipython",
    "version": 3
   },
   "file_extension": ".py",
   "mimetype": "text/x-python",
   "name": "python",
   "nbconvert_exporter": "python",
   "pygments_lexer": "ipython3",
   "version": "3.12.4"
  }
 },
 "nbformat": 4,
 "nbformat_minor": 5
}
